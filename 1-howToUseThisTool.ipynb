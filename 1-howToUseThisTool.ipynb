{
 "cells": [
  {
   "cell_type": "code",
   "execution_count": null,
   "id": "b2960895-8798-4be6-ab4d-2bd1bfd5c85e",
   "metadata": {},
   "outputs": [],
   "source": [
    "from src.drawProcessor     import drawProcessor\n",
    "from src.drawTwoProcessors import drawTwoProcessors"
   ]
  },
  {
   "cell_type": "markdown",
   "id": "c992b7b2-ac87-4dfc-a82f-8a86474a9551",
   "metadata": {},
   "source": [
    "## Example 1: 4 Types of Instructions\n",
    "\n",
    "To simulate the processor, you need to provide a program with:\n",
    "\n",
    "- 4 types of instructions: ALU, Branch, Load, NOP\n",
    "- 8 registers: r0-r7\n",
    "  - r0 is constant 0\n",
    "  - r7 is also named as rSec\n",
    "\n",
    "ROB has infinite entries so you do not need to worry about reuse of ROB entries. The format of 4 types of instruction are shown below"
   ]
  },
  {
   "cell_type": "code",
   "execution_count": null,
   "id": "656313b3-3c58-4497-875f-f933355d0b1a",
   "metadata": {},
   "outputs": [],
   "source": [
    "drawProcessor(\n",
    "    ## We have 4 types of instructions.\n",
    "    imem=[\n",
    "        {\"dest\": 0, \"opcode\": \"ALU\" , \"src\"   : 0, \"port\": 0, \"latency\": 1, \"result\": 0, \"name\": \"xx\"},\n",
    "        {\"dest\": 0, \"opcode\": \"LOAD\", \"src\"   : 0,                                       \"name\": \"xx\"},\n",
    "        {\"dest\": 0, \"opcode\": \"LOAD\", \"srcImm\": 1,                                       \"name\": \"xx\"},\n",
    "        {           \"opcode\": \"BREZ\", \"src\"   : 0, \"offset\": 2,                          \"name\": \"br\"},\n",
    "        {           \"opcode\": \"NOP\" ,                                                    \"name\": \"nop\"},\n",
    "    ],\n",
    "    r7=1,                                      ## Secret locates in r7\n",
    "    l1ValidArray=[False, True, False, False],  ## We have 4 memory entries. This array determines which entry is pre-filled in L1\n",
    ").getDraw().display_inline()"
   ]
  },
  {
   "cell_type": "markdown",
   "id": "0e310193-6ed1-4134-bfc0-f834f2c60114",
   "metadata": {},
   "source": [
    "#### Code below shows all arguments you can use"
   ]
  },
  {
   "cell_type": "code",
   "execution_count": null,
   "id": "685a395b-3eec-4057-971b-4100ce26192a",
   "metadata": {},
   "outputs": [],
   "source": [
    "drawProcessor(\n",
    "    ## We have 4 types of instructions.\n",
    "    imem=[\n",
    "        {\"dest\": 0, \"opcode\": \"ALU\" , \"src\"   : 0, \"port\": 0, \"latency\": 1, \"result\": 0, \"name\": \"xx\"},\n",
    "        {\"dest\": 0, \"opcode\": \"LOAD\", \"src\"   : 0,                                       \"name\": \"xx\"},\n",
    "        {\"dest\": 0, \"opcode\": \"LOAD\", \"srcImm\": 1,                                       \"name\": \"xx\"},\n",
    "        {           \"opcode\": \"BREZ\", \"src\"   : 0, \"offset\": 2,                          \"name\": \"br\"},\n",
    "        {           \"opcode\": \"NOP\" ,                                                    \"name\": \"nop\"},\n",
    "    ],\n",
    "    r7=1,                ## Secret locates in r7\n",
    "    l1ValidArray=[False, True, False, False],  ## We have 4 memory entries. This array determines which entry is pre-filled in L1\n",
    "    # defense=\"Baseline\" ## What Spectre defense is added. Options are Baseline, InvisiSpec, GhostMinion.\n",
    "    # maxCycle=None,     ## Total number of cycles being simulated. Use None to finish the imem. \n",
    "    # scale=1,           ## The size of the figure\n",
    "    # xyRatio=8/3,       ## The width / height ratio of the figure\n",
    "    # speed=0.5,         ## Simulation speed, the larger the faster\n",
    ").getDraw().display_inline()\n",
    "# ).save(\"animation\")    ## To save an animation.svg file, replace the last line with this line."
   ]
  },
  {
   "cell_type": "markdown",
   "id": "b9595ddb-67cc-40eb-9bbb-76bfef846223",
   "metadata": {},
   "source": [
    "## Example 2: Trigger ALU Port Contention\n",
    "\n",
    "ALU has 4 ports, operating in parallel. Each port has a FIFO to serve requests one-by-one."
   ]
  },
  {
   "cell_type": "code",
   "execution_count": null,
   "id": "4dd53fa8-1b08-4fd9-ac12-7cc84b8eaf68",
   "metadata": {},
   "outputs": [],
   "source": [
    "drawProcessor(\n",
    "    imem=[\n",
    "        {\"dest\": 0, \"opcode\": \"ALU\" , \"src\"   : 0, \"latency\": 1, \"port\": 0, \"result\": 0, \"name\": \"0\"},\n",
    "        {\"dest\": 0, \"opcode\": \"ALU\" , \"src\"   : 0, \"latency\": 2, \"port\": 0, \"result\": 0, \"name\": \"1\"},\n",
    "        {\"dest\": 0, \"opcode\": \"ALU\" , \"src\"   : 0, \"latency\": 4, \"port\": 0, \"result\": 0, \"name\": \"2\"},\n",
    "        {\"dest\": 0, \"opcode\": \"ALU\" , \"src\"   : 0, \"latency\": 4, \"port\": 0, \"result\": 0, \"name\": \"3\"},\n",
    "        {\"dest\": 0, \"opcode\": \"ALU\" , \"src\"   : 0, \"latency\": 1, \"port\": 2, \"result\": 0, \"name\": \"4\"},\n",
    "        {\"dest\": 0, \"opcode\": \"ALU\" , \"src\"   : 0, \"latency\": 1, \"port\": 0, \"result\": 0, \"name\": \"5\"},\n",
    "    ],\n",
    "    r7=1,\n",
    "    l1ValidArray=[False, False, False, False],\n",
    ").getDraw().display_inline()"
   ]
  },
  {
   "cell_type": "markdown",
   "id": "7cb57dd9-929e-4693-a631-53a0e233ec9f",
   "metadata": {},
   "source": [
    "## Example 3: Cache Hit/Miss, and Use MSHR\n",
    "\n",
    "Memory has 4 entries.\n",
    "  - L1 can cache all 4 entries. Hit takes 1 cycle. Use `l1ValidArray` argument to determine which entry is pre-filled in L1.\n",
    "  - On L1 miss, wait 3 cycles in MSHR"
   ]
  },
  {
   "cell_type": "code",
   "execution_count": null,
   "id": "62c59ea8-0019-41e8-8af0-37d798538fd5",
   "metadata": {},
   "outputs": [],
   "source": [
    "drawProcessor(\n",
    "    imem=[\n",
    "        {\"dest\": 1, \"opcode\": \"LOAD\", \"src\"   : 0, \"name\": \"0\"},\n",
    "        {\"dest\": 0, \"opcode\": \"LOAD\", \"src\"   : 1, \"name\": \"1\"},\n",
    "        {\"dest\": 0, \"opcode\": \"LOAD\", \"srcImm\": 3, \"name\": \"2\"},\n",
    "        {\"dest\": 1, \"opcode\": \"LOAD\", \"srcImm\": 3, \"name\": \"3\"},\n",
    "        {\"dest\": 0, \"opcode\": \"LOAD\", \"srcImm\": 3, \"name\": \"4\"},\n",
    "        {\"dest\": 0, \"opcode\": \"LOAD\", \"srcImm\": 2, \"name\": \"5\"},\n",
    "        {           \"opcode\": \"NOP\" ,              \"name\": \"6\"},\n",
    "    ],\n",
    "    r7=1,\n",
    "    l1ValidArray=[False, False, False, False],\n",
    ").getDraw().display_inline()"
   ]
  },
  {
   "cell_type": "markdown",
   "id": "d67bab5d-5161-459d-887b-f4dcb9e266f9",
   "metadata": {},
   "source": [
    "## Example 4: Use Branch"
   ]
  },
  {
   "cell_type": "code",
   "execution_count": null,
   "id": "fd88055b-0995-43c3-a4dc-a5fe51d51ab3",
   "metadata": {},
   "outputs": [],
   "source": [
    "drawProcessor(\n",
    "    imem=[\n",
    "        {\"dest\": 1, \"opcode\": \"LOAD\", \"src\": 0, \"latency\": 1, \"port\": 0, \"name\": \"0\"},\n",
    "        {           \"opcode\": \"BREZ\", \"src\": 1, \"offset\": 5,             \"name\": \"br\"},\n",
    "        {\"dest\": 0, \"opcode\": \"LOAD\", \"src\": 1,                          \"name\": \"2\"},\n",
    "        {\"dest\": 0, \"opcode\": \"LOAD\", \"src\": 0,                          \"name\": \"3\"},\n",
    "        {\"dest\": 1, \"opcode\": \"LOAD\", \"src\": 7,                          \"name\": \"4\"},\n",
    "        {\"dest\": 0, \"opcode\": \"LOAD\", \"src\": 0,                          \"name\": \"5\"},\n",
    "        {           \"opcode\": \"NOP\" ,                                    \"name\": \"nop\"},\n",
    "    ],\n",
    "    r7=1,\n",
    "    l1ValidArray=[False, False, False, False],\n",
    ").getDraw().display_inline()"
   ]
  },
  {
   "cell_type": "markdown",
   "id": "6a6be138-eb14-456c-8bf4-8182a7a5f3ea",
   "metadata": {},
   "source": [
    "## Example 5: A simple Spectre attack"
   ]
  },
  {
   "cell_type": "code",
   "execution_count": null,
   "id": "558f3574-bd51-4abe-b7ed-e85b80e29217",
   "metadata": {},
   "outputs": [],
   "source": [
    "Spectre = [\n",
    "    {\"dest\": 1, \"opcode\": \"ALU\" , \"src\"   : 0, \"port\": 0, \"latency\": 4, \"result\": 0, \"name\": \"delay\"},\n",
    "    {           \"opcode\": \"BREZ\", \"src\"   : 1, \"offset\": 6,                          \"name\": \"br\"},\n",
    "    {\"dest\": 0, \"opcode\": \"LOAD\", \"src\"   : 7,                                       \"name\": \"Tx\"},\n",
    "    {           \"opcode\": \"NOP\" ,                                                    \"name\": \"nop\"},\n",
    "    {           \"opcode\": \"NOP\" ,                                                    \"name\": \"nop\"},\n",
    "    {           \"opcode\": \"NOP\" ,                                                    \"name\": \"nop\"},\n",
    "    {           \"opcode\": \"NOP\" ,                                                    \"name\": \"nop\"},\n",
    "    {\"dest\": 0, \"opcode\": \"LOAD\", \"srcImm\": 0,                                       \"name\": \"Rx\"},\n",
    "]\n",
    "drawProcessor(\n",
    "    imem=Spectre,\n",
    "    r7=0,\n",
    "    l1ValidArray=[False, False, False, False],\n",
    ").getDraw().display_inline()"
   ]
  },
  {
   "cell_type": "markdown",
   "id": "fa9e8e1f-d622-467f-b725-f392e189b47e",
   "metadata": {},
   "source": [
    "## Example 5: Show 2 Simulations Together with Different Secret Values"
   ]
  },
  {
   "cell_type": "code",
   "execution_count": null,
   "id": "664e8bdb-f74c-44a9-8b7f-58e07642b1cf",
   "metadata": {},
   "outputs": [],
   "source": [
    "drawTwoProcessors(\n",
    "    imem=Spectre,\n",
    "    r7Pair=(0, 1),\n",
    "    l1ValidArray=[False, False, False, False],\n",
    ").getDraw().display_inline()"
   ]
  },
  {
   "cell_type": "code",
   "execution_count": null,
   "id": "ecdd6764-17ed-4b2f-bd94-c8ebbddfb50f",
   "metadata": {},
   "outputs": [],
   "source": []
  }
 ],
 "metadata": {
  "kernelspec": {
   "display_name": "Python 3 (ipykernel)",
   "language": "python",
   "name": "python3"
  },
  "language_info": {
   "codemirror_mode": {
    "name": "ipython",
    "version": 3
   },
   "file_extension": ".py",
   "mimetype": "text/x-python",
   "name": "python",
   "nbconvert_exporter": "python",
   "pygments_lexer": "ipython3",
   "version": "3.13.1"
  }
 },
 "nbformat": 4,
 "nbformat_minor": 5
}
