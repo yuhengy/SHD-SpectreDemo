{
 "cells": [
  {
   "cell_type": "code",
   "execution_count": null,
   "id": "b2960895-8798-4be6-ab4d-2bd1bfd5c85e",
   "metadata": {},
   "outputs": [],
   "source": [
    "from src.drawProcessor     import drawProcessor\n",
    "from src.drawTwoProcessors import drawTwoProcessors"
   ]
  },
  {
   "attachments": {},
   "cell_type": "markdown",
   "id": "ebf64e42-0546-41a0-a4d7-e840545aac84",
   "metadata": {},
   "source": [
    "## Task 1: Attack baseline processor with Spectre\n",
    "\n",
    "The code below shows an spectre attack on a baseline out-of-order processor. We will go through the following (micro-)architecture in the class, assisted by file `1-howToUseThisTool.ipynb`:\n",
    "\n",
    "- You provide a program with:\n",
    "  - 4 types of instructions: ALU, Branch, Load, NOP\n",
    "  - 8 registers: r0-r7\n",
    "    - r0 is constant 0\n",
    "    - r7 is also named as rSec\n",
    "- ROB has infinite entries\n",
    "- ALU has 4 ports, operating in parallel\n",
    "- Memory has 4 entries\n",
    "  - L1 can cache all 4 entries. Hit takes 1 cycle\n",
    "  - On L1 miss, wait 3 cycles in MSHR\n",
    "\n",
    "\n",
    "### 1-1: Spectre attack works"
   ]
  },
  {
   "cell_type": "code",
   "execution_count": null,
   "id": "faeda88d-75c0-4815-b5b2-fe52c35899e7",
   "metadata": {},
   "outputs": [],
   "source": [
    "Spectre = [\n",
    "    {\"dest\": 1, \"opcode\": \"ALU\" , \"src\"   : 0, \"port\": 0, \"latency\": 4, \"result\": 0, \"name\": \"delay\"},\n",
    "    {           \"opcode\": \"BREZ\", \"src\"   : 1, \"offset\": 6,                          \"name\": \"br\"},\n",
    "    {\"dest\": 0, \"opcode\": \"LOAD\", \"src\"   : 7,                                       \"name\": \"Tx\"},\n",
    "    {           \"opcode\": \"NOP\" ,                                                    \"name\": \"nop\"},\n",
    "    {           \"opcode\": \"NOP\" ,                                                    \"name\": \"nop\"},\n",
    "    {           \"opcode\": \"NOP\" ,                                                    \"name\": \"nop\"},\n",
    "    {           \"opcode\": \"NOP\" ,                                                    \"name\": \"nop\"},\n",
    "    {\"dest\": 0, \"opcode\": \"LOAD\", \"srcImm\": 0,                                       \"name\": \"Rx\"},\n",
    "]\n",
    "drawProcessor(\n",
    "    imem=Spectre,\n",
    "    r7=0,\n",
    "    l1ValidArray=[False, False, False, False],\n",
    ").getDraw().display_inline()"
   ]
  },
  {
   "cell_type": "markdown",
   "id": "34c49154-6c67-4325-89bc-cd438fabb084",
   "metadata": {},
   "source": [
    "### 1-2: Show 2 simulations\n",
    "\n",
    "You can also use `drawTwoProcessors()` function and provide `r7Pair=(0, 1)` to show 2 simulations together. This is helpful to observe the effect of secrets."
   ]
  },
  {
   "cell_type": "code",
   "execution_count": null,
   "id": "ce763b00-2d38-4deb-aa82-143332f9d38e",
   "metadata": {},
   "outputs": [],
   "source": [
    "drawTwoProcessors(\n",
    "    imem=Spectre,\n",
    "    r7Pair=(0, 1),\n",
    "    l1ValidArray=[False, False, False, False],\n",
    ").getDraw().display_inline()"
   ]
  },
  {
   "cell_type": "markdown",
   "id": "0064fe51-5961-432d-a912-8da8ad258bb4",
   "metadata": {},
   "source": [
    "## Task 2: Attack InvisiSpec with \"speculative interference attack\"\n",
    "\n",
    "Add an argument `defense=\"InvisiSpec\"`. This defense prevents spculative load from updating L1 state.\n",
    "\n",
    "\n",
    "### 2-1: Spectre is defended by InvisiSpec defense"
   ]
  },
  {
   "cell_type": "code",
   "execution_count": null,
   "id": "f7ba8f20-a568-4f74-a9a0-7415d35a0883",
   "metadata": {},
   "outputs": [],
   "source": [
    "drawTwoProcessors(\n",
    "    imem=Spectre,\n",
    "    r7Pair=(0, 1),\n",
    "    l1ValidArray=[False, False, False, False],\n",
    "    defense=\"InvisiSpec\",\n",
    ").getDraw().display_inline()"
   ]
  },
  {
   "cell_type": "markdown",
   "id": "c9ca731c-1618-4b58-a518-0a756974a016",
   "metadata": {},
   "source": [
    "### 2-2: Attack InvisiSpec, variant 1, use MSHR contention"
   ]
  },
  {
   "cell_type": "code",
   "execution_count": null,
   "id": "009b6b0c-2315-4a41-be66-1672f60e292b",
   "metadata": {},
   "outputs": [],
   "source": [
    "## Task 2-2: Solution.\n",
    "attack2_2 = [\n",
    "    {\"dest\": 2, \"opcode\": \"ALU\" , \"src\": 0, \"port\": 0, \"latency\": 4, \"result\": 2, \"name\": \"dly\"},\n",
    "    {\"dest\": 0, \"opcode\": \"LOAD\", \"src\": 2,                                       \"name\": \"Rx\"},\n",
    "    {           \"opcode\": \"BREZ\", \"src\": 1, \"offset\": 2,                          \"name\": \"Br\"},\n",
    "    {\"dest\": 0, \"opcode\": \"LOAD\", \"src\": 7,                                       \"name\": \"Tx\"},\n",
    "]\n",
    "attack2_2_l1ValidArray = [True, False, False, False]\n",
    "\n",
    "drawTwoProcessors(\n",
    "    imem=attack2_2,\n",
    "    r7Pair=(0, 1),\n",
    "    l1ValidArray=attack2_2_l1ValidArray,\n",
    "    defense=\"InvisiSpec\",\n",
    ").getDraw().display_inline()"
   ]
  },
  {
   "cell_type": "markdown",
   "id": "6c2c6bcd-0981-4514-873c-3a823b6726de",
   "metadata": {},
   "source": [
    "### 2-3: Attack InvisiSpec, variant 2, use ALU port contention"
   ]
  },
  {
   "cell_type": "code",
   "execution_count": null,
   "id": "558f3574-bd51-4abe-b7ed-e85b80e29217",
   "metadata": {},
   "outputs": [],
   "source": [
    "## Task 2-3: Solution.\n",
    "attack2_3 = [\n",
    "    {\"dest\": 2, \"opcode\": \"ALU\" , \"src\": 0, \"port\": 0, \"latency\": 5, \"result\": 2, \"name\": \"dly\"},\n",
    "    {\"dest\": 0, \"opcode\": \"ALU\" , \"src\": 2, \"port\": 2, \"latency\": 1, \"result\": 0, \"name\": \"Rx\"},\n",
    "    {           \"opcode\": \"BREZ\", \"src\": 1, \"offset\": 3,                          \"name\": \"Br\"},\n",
    "    {\"dest\": 3, \"opcode\": \"LOAD\", \"src\": 7,                                       \"name\": \"Sec\"},\n",
    "    {\"dest\": 0, \"opcode\": \"ALU\" , \"src\": 3, \"port\": 2, \"latency\": 2, \"result\": 0, \"name\": \"Tx\"},\n",
    "]\n",
    "attack2_3_l1ValidArray = [True, False, False, False]\n",
    "\n",
    "drawTwoProcessors(\n",
    "    imem=attack2_3,\n",
    "    r7Pair=(0, 1),\n",
    "    l1ValidArray=attack2_3_l1ValidArray,\n",
    "    defense=\"InvisiSpec\",\n",
    ").getDraw().display_inline()"
   ]
  },
  {
   "cell_type": "markdown",
   "id": "fffc4647-957c-4ac0-8f36-e62c031fa937",
   "metadata": {},
   "source": [
    "## Task 3: Attack GhostMinion with a new variant of \"speculative interference attack\"\n",
    "\n",
    "Add an argument `defense=\"GhostMinion\"`. This defense further prevents younger instructions from interfering older instructions.\n",
    "\n",
    "\n",
    "### 3-1: Previous attacks 2-2 and 2-3, are defended by GhostMinion defense"
   ]
  },
  {
   "cell_type": "code",
   "execution_count": null,
   "id": "9f25ddd7-87e0-41b7-8678-21c70be1ec2b",
   "metadata": {},
   "outputs": [],
   "source": [
    "drawTwoProcessors(\n",
    "    imem=attack2_2,\n",
    "    r7Pair=(0, 1),\n",
    "    l1ValidArray=attack2_2_l1ValidArray,\n",
    "    defense=\"GhostMinion\",\n",
    ").getDraw().display_inline()"
   ]
  },
  {
   "cell_type": "code",
   "execution_count": null,
   "id": "91044ada-4ddb-4dd0-a37f-b86a77991a9a",
   "metadata": {},
   "outputs": [],
   "source": [
    "drawTwoProcessors(\n",
    "    imem=attack2_3,\n",
    "    r7Pair=(0, 1),\n",
    "    l1ValidArray=attack2_3_l1ValidArray,\n",
    "    defense=\"GhostMinion\",\n",
    ").getDraw().display_inline()"
   ]
  },
  {
   "cell_type": "markdown",
   "id": "c5e339ec-23c0-4c12-b42f-dbfeb56516d3",
   "metadata": {},
   "source": [
    "### 3-2: A new variant of \"speculative interference attack\" works"
   ]
  },
  {
   "cell_type": "code",
   "execution_count": null,
   "id": "dd797828-c183-4b60-ab55-5db7a5e9044a",
   "metadata": {},
   "outputs": [],
   "source": [
    "## Task 3-2: Solution.\n",
    "attack3_2 = [\n",
    "    {\"dest\": 1, \"opcode\": \"ALU\" , \"src\"   : 0, \"port\": 0, \"latency\": 1, \"result\": 0, \"name\": \"dlyBr\"},\n",
    "    {           \"opcode\": \"BREZ\", \"src\"   : 1, \"offset\": 3,                          \"name\": \"Br\"},\n",
    "    {\"dest\": 0, \"opcode\": \"LOAD\", \"src\"   : 7,                                       \"name\": \"Tx\"},\n",
    "    {           \"opcode\": \"NOP\" ,                                                    \"name\": \"nop\"},\n",
    "    {\"dest\": 0, \"opcode\": \"LOAD\", \"srcImm\": 2,                                       \"name\": \"Rx\"},\n",
    "]\n",
    "attack3_2_l1ValidArray = [True, False, False, False]\n",
    "\n",
    "drawTwoProcessors(\n",
    "    imem=attack3_2,\n",
    "    r7Pair=(0, 1),\n",
    "    l1ValidArray=attack3_2_l1ValidArray,\n",
    "    defense=\"GhostMinion\",\n",
    ").getDraw().display_inline()"
   ]
  },
  {
   "cell_type": "code",
   "execution_count": null,
   "id": "ecdd6764-17ed-4b2f-bd94-c8ebbddfb50f",
   "metadata": {},
   "outputs": [],
   "source": []
  }
 ],
 "metadata": {
  "kernelspec": {
   "display_name": "Python 3 (ipykernel)",
   "language": "python",
   "name": "python3"
  },
  "language_info": {
   "codemirror_mode": {
    "name": "ipython",
    "version": 3
   },
   "file_extension": ".py",
   "mimetype": "text/x-python",
   "name": "python",
   "nbconvert_exporter": "python",
   "pygments_lexer": "ipython3",
   "version": "3.13.1"
  }
 },
 "nbformat": 4,
 "nbformat_minor": 5
}
