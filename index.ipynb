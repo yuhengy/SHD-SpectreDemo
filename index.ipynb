{
 "cells": [
  {
   "cell_type": "code",
   "execution_count": null,
   "id": "b2960895-8798-4be6-ab4d-2bd1bfd5c85e",
   "metadata": {},
   "outputs": [],
   "source": [
    "import os\n",
    "from IPython.display import Video\n",
    "\n",
    "from src import *"
   ]
  },
  {
   "cell_type": "markdown",
   "id": "c3085a86-9676-44c7-b843-922a75a00b22",
   "metadata": {},
   "source": [
    "Now you can test it"
   ]
  },
  {
   "cell_type": "code",
   "execution_count": null,
   "id": "f2cf7d7c-e2c0-4be9-9064-5f97921cd792",
   "metadata": {},
   "outputs": [],
   "source": [
    "imem = [\n",
    "{\"dest\": 0, \"opcode\": \"ALU\", \"src\": 0, \"latency\": 4, \"port\": 0, \"name\": \"inst0\"},\n",
    "]\n",
    "\n",
    "visual = Visual(imem)\n",
    "visual.save(\"video.mp4\")\n",
    "print(\"xxx\")\n",
    "Video(\"video.mp4\", width=800, height=800, html_attributes=\"controls autoplay\")"
   ]
  },
  {
   "cell_type": "code",
   "execution_count": null,
   "id": "d304ddee-ec17-4ad2-8ca0-ba834e8c65bf",
   "metadata": {},
   "outputs": [],
   "source": []
  },
  {
   "cell_type": "code",
   "execution_count": null,
   "id": "a0cb45a1-2132-4980-88ab-685be4c4ce04",
   "metadata": {},
   "outputs": [],
   "source": []
  },
  {
   "cell_type": "code",
   "execution_count": null,
   "id": "a18e82bc-620e-4164-a3a2-b7531955dd55",
   "metadata": {},
   "outputs": [],
   "source": []
  }
 ],
 "metadata": {
  "kernelspec": {
   "display_name": "Python 3 (ipykernel)",
   "language": "python",
   "name": "python3"
  },
  "language_info": {
   "codemirror_mode": {
    "name": "ipython",
    "version": 3
   },
   "file_extension": ".py",
   "mimetype": "text/x-python",
   "name": "python",
   "nbconvert_exporter": "python",
   "pygments_lexer": "ipython3",
   "version": "3.13.1"
  }
 },
 "nbformat": 4,
 "nbformat_minor": 5
}
